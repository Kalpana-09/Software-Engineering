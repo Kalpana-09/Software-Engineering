{
  "nbformat": 4,
  "nbformat_minor": 0,
  "metadata": {
    "colab": {
      "provenance": [],
      "authorship_tag": "ABX9TyPyzyPS41TYQUZM4xQoNAhg",
      "include_colab_link": true
    },
    "kernelspec": {
      "name": "python3",
      "display_name": "Python 3"
    },
    "language_info": {
      "name": "python"
    }
  },
  "cells": [
    {
      "cell_type": "markdown",
      "metadata": {
        "id": "view-in-github",
        "colab_type": "text"
      },
      "source": [
        "<a href=\"https://colab.research.google.com/github/Kalpana-09/Software-Engineering/blob/main/SE_Experiment1.ipynb\" target=\"_parent\"><img src=\"https://colab.research.google.com/assets/colab-badge.svg\" alt=\"Open In Colab\"/></a>"
      ]
    },
    {
      "cell_type": "code",
      "execution_count": 3,
      "metadata": {
        "colab": {
          "base_uri": "https://localhost:8080/"
        },
        "id": "zBg8W4JJ_cmn",
        "outputId": "4e10957d-d18f-49da-885c-a0391ac4970e"
      },
      "outputs": [
        {
          "output_type": "stream",
          "name": "stdout",
          "text": [
            "Enter the cost per attendee (m): 50\n",
            "Enter the number of attendees (x): 100\n",
            "Enter the fixed organizational cost (c): 60000\n",
            "\n",
            "Calculated Budget: 65000.0\n"
          ]
        }
      ],
      "source": [
        "def calculate_budget():\n",
        "    try:\n",
        "        # Get user input for cost per attendee, number of attendees, and fixed cost\n",
        "        m = float(input(\"Enter the cost per attendee (m): \"))\n",
        "        x = float(input(\"Enter the number of attendees (x): \"))\n",
        "        c = float(input(\"Enter the fixed organizational cost (c): \"))\n",
        "\n",
        "        # Calculate the budget using the linear equation\n",
        "        budget = m * x + c\n",
        "\n",
        "        # Show the result\n",
        "        print(f\"\\nCalculated Budget: {budget}\")\n",
        "\n",
        "    except ValueError:\n",
        "        # Handle invalid input if the user enters something that's not a number\n",
        "        print(\"Please enter valid numbers.\")\n",
        "\n",
        "# Run the function to calculate budget\n",
        "calculate_budget()\n"
      ]
    },
    {
      "cell_type": "markdown",
      "source": [],
      "metadata": {
        "id": "NV362ILFCHQ_"
      }
    }
  ]
}